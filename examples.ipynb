{
 "cells": [
  {
   "cell_type": "code",
   "execution_count": 1,
   "id": "7d321a3c",
   "metadata": {},
   "outputs": [],
   "source": [
    "from typing import Dict, Optional, Tuple\n",
    "\n",
    "import torch\n",
    "from torch import nn\n",
    "from torch.utils.data import DataLoader, TensorDataset\n",
    "\n",
    "from squeezer.containers import Batch, ModelOutput\n",
    "from squeezer.distiller import Distiller\n",
    "from squeezer.policy import AbstractDistillationPolicy, DistillationPolicy"
   ]
  },
  {
   "cell_type": "code",
   "execution_count": 2,
   "id": "8aa642e3",
   "metadata": {},
   "outputs": [
    {
     "data": {
      "text/plain": [
       "<torch._C.Generator at 0x7fd62513c350>"
      ]
     },
     "execution_count": 2,
     "metadata": {},
     "output_type": "execute_result"
    }
   ],
   "source": [
    "torch.manual_seed(0xDEAD)"
   ]
  },
  {
   "cell_type": "markdown",
   "id": "233397c6",
   "metadata": {},
   "source": [
    "# Models\n",
    "Объявляем модель-учитель побольше и модель-ученик поменьше.  \n",
    "Тип возвращаемого значения должен наследоваться от класса `ModelOutput` (или быть им)."
   ]
  },
  {
   "cell_type": "code",
   "execution_count": 3,
   "id": "c8485bfb",
   "metadata": {},
   "outputs": [],
   "source": [
    "class Teacher(nn.Module):\n",
    "    def __init__(self, input_size, output_size, hidden_size):\n",
    "        super().__init__()\n",
    "        self.network = nn.Sequential(\n",
    "            nn.Linear(input_size, hidden_size),\n",
    "            nn.ReLU(),\n",
    "            nn.Linear(hidden_size, hidden_size),\n",
    "            nn.ReLU(),\n",
    "            nn.Linear(hidden_size, output_size)\n",
    "        )\n",
    "\n",
    "    def forward(self, inputs):\n",
    "        outputs = self.network(inputs)\n",
    "        return ModelOutput(logits=outputs)"
   ]
  },
  {
   "cell_type": "code",
   "execution_count": 4,
   "id": "4a2b8099",
   "metadata": {},
   "outputs": [],
   "source": [
    "class Student(nn.Module):\n",
    "    def __init__(self, input_size, output_size):\n",
    "        super().__init__()\n",
    "        self.network = nn.Linear(input_size, output_size)\n",
    "\n",
    "    def forward(self, inputs):\n",
    "        outputs = self.network(inputs)\n",
    "        return ModelOutput(logits=outputs)"
   ]
  },
  {
   "cell_type": "markdown",
   "id": "982d23fb",
   "metadata": {},
   "source": [
    "# Data"
   ]
  },
  {
   "cell_type": "code",
   "execution_count": 5,
   "id": "c1534b20",
   "metadata": {},
   "outputs": [],
   "source": [
    "def collate_fn(batch: list):\n",
    "    data, target = zip(*batch)\n",
    "    return Batch(\n",
    "        data=torch.stack(data),\n",
    "        target=torch.stack(target)\n",
    "    )\n",
    "\n",
    "def get_loader(length: int = 10000, num_features: int = 20, num_classes: int = 4, batch_size: int = 64):\n",
    "    data_tensor = torch.randn(length, num_features)\n",
    "    target_tensor = torch.randint(high=num_classes, size=(length,))\n",
    "    dataset = TensorDataset(data_tensor, target_tensor)\n",
    "    return DataLoader(dataset, collate_fn=collate_fn, batch_size=batch_size)"
   ]
  },
  {
   "cell_type": "markdown",
   "id": "5d6fe45a",
   "metadata": {},
   "source": [
    "# Distillation"
   ]
  },
  {
   "cell_type": "markdown",
   "id": "115e9970",
   "metadata": {},
   "source": [
    "## Basic policy"
   ]
  },
  {
   "cell_type": "code",
   "execution_count": 6,
   "id": "5572f04e",
   "metadata": {
    "scrolled": true,
    "tags": []
   },
   "outputs": [
    {
     "name": "stdout",
     "output_type": "stream",
     "text": [
      "Epoch 0: kld=0.12780\tcross_entropy=1.50291\toverall=0.12780\n",
      "Epoch 1: kld=0.10538\tcross_entropy=1.47928\toverall=0.10538\n",
      "Epoch 2: kld=0.08571\tcross_entropy=1.45930\toverall=0.08571\n",
      "Epoch 3: kld=0.06874\tcross_entropy=1.44273\toverall=0.06874\n",
      "Epoch 4: kld=0.05441\tcross_entropy=1.42929\toverall=0.05441\n",
      "Epoch 5: kld=0.04256\tcross_entropy=1.41866\toverall=0.04256\n",
      "Epoch 6: kld=0.03297\tcross_entropy=1.41048\toverall=0.03297\n",
      "Epoch 7: kld=0.02536\tcross_entropy=1.40438\toverall=0.02536\n",
      "Epoch 8: kld=0.01943\tcross_entropy=1.40000\toverall=0.01943\n",
      "Epoch 9: kld=0.01489\tcross_entropy=1.39700\toverall=0.01489\n",
      "Epoch 10: kld=0.01146\tcross_entropy=1.39509\toverall=0.01146\n",
      "Epoch 11: kld=0.00890\tcross_entropy=1.39400\toverall=0.00890\n",
      "Epoch 12: kld=0.00699\tcross_entropy=1.39353\toverall=0.00699\n",
      "Epoch 13: kld=0.00557\tcross_entropy=1.39350\toverall=0.00557\n",
      "Epoch 14: kld=0.00451\tcross_entropy=1.39378\toverall=0.00451\n",
      "Epoch 15: kld=0.00370\tcross_entropy=1.39426\toverall=0.00370\n",
      "Epoch 16: kld=0.00308\tcross_entropy=1.39487\toverall=0.00308\n",
      "Epoch 17: kld=0.00259\tcross_entropy=1.39556\toverall=0.00259\n",
      "Epoch 18: kld=0.00219\tcross_entropy=1.39630\toverall=0.00219\n",
      "Epoch 19: kld=0.00187\tcross_entropy=1.39705\toverall=0.00187\n",
      "Epoch 20: kld=0.00160\tcross_entropy=1.39780\toverall=0.00160\n",
      "Epoch 21: kld=0.00138\tcross_entropy=1.39854\toverall=0.00138\n",
      "Epoch 22: kld=0.00119\tcross_entropy=1.39927\toverall=0.00119\n",
      "Epoch 23: kld=0.00103\tcross_entropy=1.39998\toverall=0.00103\n",
      "Epoch 24: kld=0.00091\tcross_entropy=1.40066\toverall=0.00091\n",
      "Epoch 25: kld=0.00080\tcross_entropy=1.40132\toverall=0.00080\n",
      "Epoch 26: kld=0.00072\tcross_entropy=1.40194\toverall=0.00072\n",
      "Epoch 27: kld=0.00065\tcross_entropy=1.40253\toverall=0.00065\n",
      "Epoch 28: kld=0.00059\tcross_entropy=1.40309\toverall=0.00059\n",
      "Epoch 29: kld=0.00055\tcross_entropy=1.40360\toverall=0.00055\n",
      "Epoch 30: kld=0.00052\tcross_entropy=1.40407\toverall=0.00052\n",
      "Epoch 31: kld=0.00050\tcross_entropy=1.40449\toverall=0.00050\n",
      "Epoch 32: kld=0.00048\tcross_entropy=1.40487\toverall=0.00048\n",
      "Epoch 33: kld=0.00047\tcross_entropy=1.40520\toverall=0.00047\n",
      "Epoch 34: kld=0.00046\tcross_entropy=1.40549\toverall=0.00046\n",
      "Epoch 35: kld=0.00046\tcross_entropy=1.40573\toverall=0.00046\n",
      "Epoch 36: kld=0.00045\tcross_entropy=1.40593\toverall=0.00045\n",
      "Epoch 37: kld=0.00045\tcross_entropy=1.40610\toverall=0.00045\n",
      "Epoch 38: kld=0.00045\tcross_entropy=1.40623\toverall=0.00045\n",
      "Epoch 39: kld=0.00045\tcross_entropy=1.40633\toverall=0.00045\n",
      "Epoch 40: kld=0.00045\tcross_entropy=1.40641\toverall=0.00045\n",
      "Epoch 41: kld=0.00045\tcross_entropy=1.40647\toverall=0.00045\n",
      "Epoch 42: kld=0.00045\tcross_entropy=1.40651\toverall=0.00045\n",
      "Epoch 43: kld=0.00045\tcross_entropy=1.40653\toverall=0.00045\n",
      "Epoch 44: kld=0.00045\tcross_entropy=1.40655\toverall=0.00045\n",
      "Epoch 45: kld=0.00045\tcross_entropy=1.40656\toverall=0.00045\n",
      "Epoch 46: kld=0.00045\tcross_entropy=1.40657\toverall=0.00045\n",
      "Epoch 47: kld=0.00045\tcross_entropy=1.40657\toverall=0.00045\n",
      "Epoch 48: kld=0.00045\tcross_entropy=1.40658\toverall=0.00045\n",
      "Epoch 49: kld=0.00045\tcross_entropy=1.40658\toverall=0.00045\n"
     ]
    }
   ],
   "source": [
    "input_size = 32\n",
    "num_classes = 4\n",
    "n_epochs = 50\n",
    "\n",
    "train_loader = get_loader(num_features=input_size, num_classes=num_classes)\n",
    "teacher = Teacher(input_size, num_classes, hidden_size=10)\n",
    "student = Student(input_size, num_classes)\n",
    "\n",
    "# Инициализируем политику функции потерь для дистилляции.\n",
    "# В этом примере используется стандартная политика, при которой\n",
    "# ученик учится сразу на распределение логитов учителя (KLD) и на мейнстрим задачу (CE).\n",
    "# Для кастомизации политики, например, для использования других функций потерь или\n",
    "# добавления адаптеров между аутпутами моделей, необходимо наследоваться от класса `AbstractDistillationPolicy`\n",
    "policy = DistillationPolicy(temperature=0.5, alpha=1.0)\n",
    "\n",
    "distiller = Distiller(teacher, student, policy)\n",
    "distiller(train_loader, n_epochs=n_epochs)"
   ]
  },
  {
   "cell_type": "markdown",
   "id": "f29fb594",
   "metadata": {},
   "source": [
    "### Student vs Teacher"
   ]
  },
  {
   "cell_type": "code",
   "execution_count": 7,
   "id": "809fb6f9",
   "metadata": {},
   "outputs": [
    {
     "name": "stdout",
     "output_type": "stream",
     "text": [
      "Teacher output:\n",
      "tensor([[-0.1217,  0.1959, -0.2506, -0.5039],\n",
      "        [-0.1324,  0.0405, -0.1797, -0.4393],\n",
      "        [-0.0844,  0.0537, -0.1318, -0.4583],\n",
      "        [-0.1500,  0.1800, -0.2762, -0.5421],\n",
      "        [-0.1290,  0.1328, -0.2370, -0.5321]])\n",
      "Student output:\n",
      "tensor([[-0.0721,  0.2120, -0.1855, -0.4485],\n",
      "        [ 0.1190,  0.2183,  0.1295, -0.1383],\n",
      "        [ 0.2430,  0.3996,  0.1840, -0.1314],\n",
      "        [-0.0246,  0.3031, -0.1254, -0.3758],\n",
      "        [ 0.3515,  0.6541,  0.2204, -0.0737]])\n"
     ]
    }
   ],
   "source": [
    "with torch.inference_mode():\n",
    "    random_input = torch.randn(5, input_size)\n",
    "    teacher_output = teacher(random_input)\n",
    "    student_output = student(random_input)\n",
    "    print('Teacher output:')\n",
    "    print(teacher_output.logits)\n",
    "    print('Student output:')\n",
    "    print(student_output.logits)"
   ]
  },
  {
   "cell_type": "code",
   "execution_count": 8,
   "id": "1084932d",
   "metadata": {},
   "outputs": [
    {
     "name": "stdout",
     "output_type": "stream",
     "text": [
      "MSE: 0.08638\n"
     ]
    }
   ],
   "source": [
    "mse = nn.functional.mse_loss(student_output.logits, teacher_output.logits).item()\n",
    "print(f'MSE: {mse:.5f}')"
   ]
  },
  {
   "cell_type": "markdown",
   "id": "10e13205",
   "metadata": {},
   "source": [
    "## Custom policy (MSE)"
   ]
  },
  {
   "cell_type": "code",
   "execution_count": 9,
   "id": "aa84e372",
   "metadata": {},
   "outputs": [],
   "source": [
    "LossDictT = Dict[str, float]\n",
    "\n",
    "\n",
    "class SingleMSEDistillationPolicy(AbstractDistillationPolicy):\n",
    "    def forward(self, teacher_output, student_output, target, epoch) -> Tuple[torch.Tensor, LossDictT]:\n",
    "        loss_mse = nn.functional.mse_loss(student_output.logits, teacher_output.logits)\n",
    "        loss_dict = {'mse': loss_mse.item()}\n",
    "        return loss_mse, loss_dict"
   ]
  },
  {
   "cell_type": "code",
   "execution_count": 10,
   "id": "00e5388f",
   "metadata": {
    "scrolled": true,
    "tags": []
   },
   "outputs": [
    {
     "name": "stdout",
     "output_type": "stream",
     "text": [
      "Epoch 0: mse=0.34848\n",
      "Epoch 1: mse=0.28101\n",
      "Epoch 2: mse=0.22472\n",
      "Epoch 3: mse=0.17805\n",
      "Epoch 4: mse=0.13968\n",
      "Epoch 5: mse=0.10846\n",
      "Epoch 6: mse=0.08330\n",
      "Epoch 7: mse=0.06327\n",
      "Epoch 8: mse=0.04751\n",
      "Epoch 9: mse=0.03527\n",
      "Epoch 10: mse=0.02590\n",
      "Epoch 11: mse=0.01883\n",
      "Epoch 12: mse=0.01358\n",
      "Epoch 13: mse=0.00974\n",
      "Epoch 14: mse=0.00700\n",
      "Epoch 15: mse=0.00506\n",
      "Epoch 16: mse=0.00373\n",
      "Epoch 17: mse=0.00284\n",
      "Epoch 18: mse=0.00225\n",
      "Epoch 19: mse=0.00187\n",
      "Epoch 20: mse=0.00164\n",
      "Epoch 21: mse=0.00149\n",
      "Epoch 22: mse=0.00141\n",
      "Epoch 23: mse=0.00136\n",
      "Epoch 24: mse=0.00133\n",
      "Epoch 25: mse=0.00131\n",
      "Epoch 26: mse=0.00130\n",
      "Epoch 27: mse=0.00130\n",
      "Epoch 28: mse=0.00130\n",
      "Epoch 29: mse=0.00130\n",
      "Epoch 30: mse=0.00130\n",
      "Epoch 31: mse=0.00130\n",
      "Epoch 32: mse=0.00130\n",
      "Epoch 33: mse=0.00130\n",
      "Epoch 34: mse=0.00130\n",
      "Epoch 35: mse=0.00130\n",
      "Epoch 36: mse=0.00130\n",
      "Epoch 37: mse=0.00130\n",
      "Epoch 38: mse=0.00130\n",
      "Epoch 39: mse=0.00130\n",
      "Epoch 40: mse=0.00130\n",
      "Epoch 41: mse=0.00130\n",
      "Epoch 42: mse=0.00130\n",
      "Epoch 43: mse=0.00130\n",
      "Epoch 44: mse=0.00130\n",
      "Epoch 45: mse=0.00130\n",
      "Epoch 46: mse=0.00130\n",
      "Epoch 47: mse=0.00130\n",
      "Epoch 48: mse=0.00130\n",
      "Epoch 49: mse=0.00130\n"
     ]
    }
   ],
   "source": [
    "input_size = 32\n",
    "num_classes = 4\n",
    "n_epochs = 50\n",
    "\n",
    "train_loader = get_loader(num_features=input_size, num_classes=num_classes)\n",
    "teacher = Teacher(input_size, num_classes, hidden_size=10)\n",
    "student = Student(input_size, num_classes)\n",
    "\n",
    "policy = SingleMSEDistillationPolicy()\n",
    "\n",
    "distiller = Distiller(teacher, student, policy)\n",
    "distiller(train_loader, n_epochs=n_epochs)"
   ]
  },
  {
   "cell_type": "markdown",
   "id": "d32f6c39",
   "metadata": {},
   "source": [
    "### Student vs Teacher"
   ]
  },
  {
   "cell_type": "code",
   "execution_count": 11,
   "id": "ac46270e",
   "metadata": {},
   "outputs": [
    {
     "name": "stdout",
     "output_type": "stream",
     "text": [
      "Teacher output:\n",
      "tensor([[ 0.2362,  0.2263,  0.1356, -0.0325],\n",
      "        [ 0.1388,  0.2534,  0.2083, -0.0543],\n",
      "        [ 0.2643,  0.1796,  0.0818,  0.0101],\n",
      "        [ 0.2930,  0.1302, -0.0004,  0.0206],\n",
      "        [ 0.2378,  0.1847,  0.1942, -0.0717]])\n",
      "Student output:\n",
      "tensor([[ 0.2172,  0.2265,  0.1470, -0.0575],\n",
      "        [ 0.2024,  0.2067,  0.1743, -0.0568],\n",
      "        [ 0.2816,  0.1567,  0.0250,  0.0484],\n",
      "        [ 0.3273,  0.1214,  0.0045,  0.0219],\n",
      "        [ 0.2050,  0.1613,  0.1797, -0.0603]])\n"
     ]
    }
   ],
   "source": [
    "with torch.inference_mode():\n",
    "    random_input = torch.randn(5, input_size)\n",
    "    teacher_output = teacher(random_input)\n",
    "    student_output = student(random_input)\n",
    "    print('Teacher output:')\n",
    "    print(teacher_output.logits)\n",
    "    print('Student output:')\n",
    "    print(student_output.logits)"
   ]
  },
  {
   "cell_type": "code",
   "execution_count": 12,
   "id": "2558db00",
   "metadata": {},
   "outputs": [
    {
     "name": "stdout",
     "output_type": "stream",
     "text": [
      "MSE: 0.00086\n"
     ]
    }
   ],
   "source": [
    "mse = nn.functional.mse_loss(student_output.logits, teacher_output.logits).item()\n",
    "print(f'MSE: {mse:.5f}')"
   ]
  },
  {
   "cell_type": "markdown",
   "id": "19ca8611",
   "metadata": {},
   "source": [
    "## Advanced policy\n",
    "**1. CE + MSE with scale decay**  \n",
    "**2. Layer adapter**"
   ]
  },
  {
   "cell_type": "code",
   "execution_count": 13,
   "id": "a32435d6",
   "metadata": {},
   "outputs": [],
   "source": [
    "LossDictT = Dict[str, float]\n",
    "\n",
    "\n",
    "class AdvancedDistillationPolicy(AbstractDistillationPolicy):\n",
    "    def __init__(self, n_epochs: int, adapter_mapping: Optional[Tuple[int, int]] = None):\n",
    "        super().__init__()\n",
    "        self.n_epochs = n_epochs\n",
    "        self.adapter = nn.Identity() if adapter_mapping is None else nn.Linear(*adapter_mapping)\n",
    "    \n",
    "    def forward(self, teacher_output, student_output, target, epoch) -> Tuple[torch.Tensor, LossDictT]:\n",
    "        alpha = (epoch + 1) / self.n_epochs\n",
    "        projected_teacher_logits = self.adapter(teacher_output.logits)\n",
    "\n",
    "        loss_mse = nn.functional.mse_loss(student_output.logits, projected_teacher_logits)\n",
    "        loss_ce = nn.functional.cross_entropy(student_output.logits, target)\n",
    "        overall = loss_mse * alpha + loss_ce * (1 - alpha)\n",
    "        scalars_dict = {\n",
    "            'mse': loss_mse.item(),\n",
    "            'cross_entropy': loss_ce.item(),\n",
    "            'overall': overall.item(),\n",
    "            'alpha': alpha,\n",
    "        }\n",
    "        return overall, scalars_dict"
   ]
  },
  {
   "cell_type": "code",
   "execution_count": 14,
   "id": "e56b3d41",
   "metadata": {
    "scrolled": true,
    "tags": []
   },
   "outputs": [
    {
     "name": "stdout",
     "output_type": "stream",
     "text": [
      "Epoch 0: mse=0.35466\tcross_entropy=1.49833\toverall=1.47546\talpha=0.02000\n",
      "Epoch 1: mse=0.32912\tcross_entropy=1.48502\toverall=1.43878\talpha=0.04000\n",
      "Epoch 2: mse=0.30518\tcross_entropy=1.47289\toverall=1.40283\talpha=0.06000\n",
      "Epoch 3: mse=0.28256\tcross_entropy=1.46182\toverall=1.36748\talpha=0.08000\n",
      "Epoch 4: mse=0.26118\tcross_entropy=1.45177\toverall=1.33271\talpha=0.10000\n",
      "Epoch 5: mse=0.24095\tcross_entropy=1.44270\toverall=1.29849\talpha=0.12000\n",
      "Epoch 6: mse=0.22184\tcross_entropy=1.43457\toverall=1.26478\talpha=0.14000\n",
      "Epoch 7: mse=0.20376\tcross_entropy=1.42732\toverall=1.23155\talpha=0.16000\n",
      "Epoch 8: mse=0.18669\tcross_entropy=1.42092\toverall=1.19876\talpha=0.18000\n",
      "Epoch 9: mse=0.17057\tcross_entropy=1.41531\toverall=1.16637\talpha=0.20000\n",
      "Epoch 10: mse=0.15538\tcross_entropy=1.41044\toverall=1.13433\talpha=0.22000\n",
      "Epoch 11: mse=0.14107\tcross_entropy=1.40625\toverall=1.10261\talpha=0.24000\n",
      "Epoch 12: mse=0.12763\tcross_entropy=1.40268\toverall=1.07117\talpha=0.26000\n",
      "Epoch 13: mse=0.11503\tcross_entropy=1.39969\toverall=1.03999\talpha=0.28000\n",
      "Epoch 14: mse=0.10327\tcross_entropy=1.39721\toverall=1.00903\talpha=0.30000\n",
      "Epoch 15: mse=0.09231\tcross_entropy=1.39521\toverall=0.97828\talpha=0.32000\n",
      "Epoch 16: mse=0.08216\tcross_entropy=1.39362\toverall=0.94772\talpha=0.34000\n",
      "Epoch 17: mse=0.07279\tcross_entropy=1.39241\toverall=0.91735\talpha=0.36000\n",
      "Epoch 18: mse=0.06419\tcross_entropy=1.39152\toverall=0.88714\talpha=0.38000\n",
      "Epoch 19: mse=0.05634\tcross_entropy=1.39093\toverall=0.85709\talpha=0.40000\n",
      "Epoch 20: mse=0.04921\tcross_entropy=1.39058\toverall=0.82721\talpha=0.42000\n",
      "Epoch 21: mse=0.04279\tcross_entropy=1.39046\toverall=0.79749\talpha=0.44000\n",
      "Epoch 22: mse=0.03703\tcross_entropy=1.39053\toverall=0.76792\talpha=0.46000\n",
      "Epoch 23: mse=0.03191\tcross_entropy=1.39076\toverall=0.73851\talpha=0.48000\n",
      "Epoch 24: mse=0.02739\tcross_entropy=1.39112\toverall=0.70926\talpha=0.50000\n",
      "Epoch 25: mse=0.02342\tcross_entropy=1.39161\toverall=0.68015\talpha=0.52000\n",
      "Epoch 26: mse=0.01996\tcross_entropy=1.39219\toverall=0.65119\talpha=0.54000\n",
      "Epoch 27: mse=0.01697\tcross_entropy=1.39286\toverall=0.62236\talpha=0.56000\n",
      "Epoch 28: mse=0.01440\tcross_entropy=1.39360\toverall=0.59366\talpha=0.58000\n",
      "Epoch 29: mse=0.01220\tcross_entropy=1.39439\toverall=0.56508\talpha=0.60000\n",
      "Epoch 30: mse=0.01033\tcross_entropy=1.39523\toverall=0.53659\talpha=0.62000\n",
      "Epoch 31: mse=0.00875\tcross_entropy=1.39611\toverall=0.50820\talpha=0.64000\n",
      "Epoch 32: mse=0.00741\tcross_entropy=1.39702\toverall=0.47988\talpha=0.66000\n",
      "Epoch 33: mse=0.00627\tcross_entropy=1.39795\toverall=0.45161\talpha=0.68000\n",
      "Epoch 34: mse=0.00532\tcross_entropy=1.39890\toverall=0.42339\talpha=0.70000\n",
      "Epoch 35: mse=0.00450\tcross_entropy=1.39986\toverall=0.39520\talpha=0.72000\n",
      "Epoch 36: mse=0.00381\tcross_entropy=1.40083\toverall=0.36704\talpha=0.74000\n",
      "Epoch 37: mse=0.00323\tcross_entropy=1.40180\toverall=0.33888\talpha=0.76000\n",
      "Epoch 38: mse=0.00272\tcross_entropy=1.40277\toverall=0.31074\talpha=0.78000\n",
      "Epoch 39: mse=0.00230\tcross_entropy=1.40374\toverall=0.28258\talpha=0.80000\n",
      "Epoch 40: mse=0.00193\tcross_entropy=1.40470\toverall=0.25443\talpha=0.82000\n",
      "Epoch 41: mse=0.00162\tcross_entropy=1.40565\toverall=0.22626\talpha=0.84000\n",
      "Epoch 42: mse=0.00135\tcross_entropy=1.40659\toverall=0.19808\talpha=0.86000\n",
      "Epoch 43: mse=0.00113\tcross_entropy=1.40751\toverall=0.16989\talpha=0.88000\n",
      "Epoch 44: mse=0.00094\tcross_entropy=1.40843\toverall=0.14169\talpha=0.90000\n",
      "Epoch 45: mse=0.00079\tcross_entropy=1.40932\toverall=0.11347\talpha=0.92000\n",
      "Epoch 46: mse=0.00067\tcross_entropy=1.41020\toverall=0.08524\talpha=0.94000\n",
      "Epoch 47: mse=0.00058\tcross_entropy=1.41106\toverall=0.05700\talpha=0.96000\n",
      "Epoch 48: mse=0.00052\tcross_entropy=1.41190\toverall=0.02875\talpha=0.98000\n",
      "Epoch 49: mse=0.00048\tcross_entropy=1.41273\toverall=0.00048\talpha=1.00000\n"
     ]
    }
   ],
   "source": [
    "input_size = 32\n",
    "num_teacher_logits = 6\n",
    "num_student_logits = 4\n",
    "n_epochs = 50\n",
    "\n",
    "train_loader = get_loader(num_features=input_size, num_classes=num_classes)\n",
    "teacher = Teacher(input_size, num_teacher_logits, hidden_size=10)\n",
    "student = Student(input_size, num_student_logits)\n",
    "\n",
    "policy = AdvancedDistillationPolicy(n_epochs, adapter_mapping=(num_teacher_logits, num_student_logits))\n",
    "\n",
    "distiller = Distiller(teacher, student, policy)\n",
    "distiller(train_loader, n_epochs=n_epochs)"
   ]
  },
  {
   "cell_type": "markdown",
   "id": "8db8e18e",
   "metadata": {},
   "source": [
    "### Student vs Teacher"
   ]
  },
  {
   "cell_type": "code",
   "execution_count": 15,
   "id": "6b08bd97",
   "metadata": {},
   "outputs": [
    {
     "name": "stdout",
     "output_type": "stream",
     "text": [
      "Teacher output:\n",
      "tensor([[-0.1329,  0.1282, -0.1064,  0.2148,  0.0931,  0.2372],\n",
      "        [-0.1190,  0.1222, -0.0096,  0.1823,  0.0670,  0.2634],\n",
      "        [-0.0450,  0.0447, -0.0888,  0.1382,  0.0143,  0.1679],\n",
      "        [-0.1969,  0.2049, -0.0978,  0.1848,  0.0004, -0.0018],\n",
      "        [-0.0853, -0.0314, -0.0410,  0.1831, -0.0424,  0.2571]])\n",
      "Teacher after adapter output:\n",
      "tensor([[-0.0648, -0.2931,  0.3177, -0.1903],\n",
      "        [-0.0909, -0.2952,  0.2953, -0.1913],\n",
      "        [-0.0404, -0.2404,  0.2275, -0.2135],\n",
      "        [ 0.0391, -0.2174,  0.2448, -0.2471],\n",
      "        [-0.0678, -0.2120,  0.2082, -0.2116]])\n",
      "Student output:\n",
      "tensor([[-0.0602, -0.2900,  0.3141, -0.1946],\n",
      "        [-0.0661, -0.2699,  0.2632, -0.2029],\n",
      "        [-0.0341, -0.2654,  0.2787, -0.2143],\n",
      "        [ 0.0131, -0.2404,  0.2622, -0.2330],\n",
      "        [-0.0802, -0.2542,  0.2534, -0.2071]])\n"
     ]
    }
   ],
   "source": [
    "with torch.no_grad():\n",
    "    random_input = torch.randn(5, input_size)\n",
    "    teacher_output = teacher(random_input)\n",
    "    student_output = student(random_input)\n",
    "    print('Teacher output:')\n",
    "    print(teacher_output.logits)\n",
    "    print('Teacher after adapter output:')\n",
    "    print(policy.adapter(teacher_output.logits))\n",
    "    print('Student output:')\n",
    "    print(student_output.logits)"
   ]
  },
  {
   "cell_type": "code",
   "execution_count": 16,
   "id": "4d99354b",
   "metadata": {},
   "outputs": [
    {
     "name": "stdout",
     "output_type": "stream",
     "text": [
      "MSE: 0.00057\n"
     ]
    }
   ],
   "source": [
    "mse = nn.functional.mse_loss(student_output.logits, policy.adapter(teacher_output.logits)).item()\n",
    "print(f'MSE: {mse:.5f}')"
   ]
  },
  {
   "cell_type": "code",
   "execution_count": null,
   "id": "396241a5",
   "metadata": {},
   "outputs": [],
   "source": []
  }
 ],
 "metadata": {
  "kernelspec": {
   "display_name": "Python 3",
   "language": "python",
   "name": "python3"
  },
  "language_info": {
   "codemirror_mode": {
    "name": "ipython",
    "version": 3
   },
   "file_extension": ".py",
   "mimetype": "text/x-python",
   "name": "python",
   "nbconvert_exporter": "python",
   "pygments_lexer": "ipython3",
   "version": "3.9.2"
  },
  "toc-autonumbering": true
 },
 "nbformat": 4,
 "nbformat_minor": 5
}
